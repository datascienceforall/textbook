{
 "cells": [
  {
   "cell_type": "code",
   "execution_count": 1,
   "metadata": {
    "collapsed": true
   },
   "outputs": [],
   "source": [
    "# HIDDEN\n",
    "from datascience import *\n",
    "from datascience.predicates import are\n",
    "import numpy as np\n",
    "import matplotlib\n",
    "matplotlib.use('Agg', warn=False)\n",
    "%matplotlib inline\n",
    "import matplotlib.pyplot as plots\n",
    "plots.style.use('fivethirtyeight')\n",
    "import warnings\n",
    "warnings.simplefilter(action=\"ignore\", category=FutureWarning)"
   ]
  },
  {
   "cell_type": "markdown",
   "metadata": {
    "collapsed": true
   },
   "source": [
    "Computational Tools\n",
    "-------------------\n",
    "\n",
    "This text uses the Python 3 programming language, along with a standard set of\n",
    "numerical and data visualization tools that are used widely in commercial\n",
    "applications, scientific experiments, and open-source projects.\n",
    "Python has recruited enthusiasts from many professions that use data to draw\n",
    "conclusions. By learning the Python language, you will join a\n",
    "million-person-strong community of software developers and data scientists.\n",
    "This text will teach you to write programs, generate images from data, and work with\n",
    "real-world data sets that are published online.\n",
    "\n",
    "**Getting Started (for students in Data Science For All).** \n",
    "You don't need to install any software on your computer.  Everything\n",
    "will run in your web browser. Just log in to [Vocareum\n",
    "Labs](https://labs.vocareum.com). After you are enrolled in the course,\n",
    "you should have full access to the programming environment hosted on\n",
    "that site. If not, or if you have any technical difficulties with\n",
    "Vocareum, consult with your recitation TA for assistance. All\n",
    "assignments (labs, homeworks, and projects) will be released to you in\n",
    "Vocareum, and you will submit them there, too.  \n",
    "\n",
    "**Getting Started (for others).**\n",
    "A Python program can be executed by any computer, regardless of its\n",
    "manufacturer or operating system, provided that support for the language is\n",
    "installed. If you wish to install the version of Python and its accompanying\n",
    "libraries that will match this text, we recommend [Anaconda](https://www.anaconda.com/download/).  Make sure to install the \n",
    "Python 3 version, not the Python 2 version.  You'll also need to \n",
    "install the `datascience` [library](https://github.com/data-8/datascience).\n",
    "The easiest way to do that is to open a terminal and run `pip install datascience`."
   ]
  },
  {
   "cell_type": "code",
   "execution_count": null,
   "metadata": {},
   "outputs": [],
   "source": []
  }
 ],
 "metadata": {
  "kernelspec": {
   "display_name": "Python 3",
   "language": "python",
   "name": "python3"
  },
  "language_info": {
   "codemirror_mode": {
    "name": "ipython",
    "version": 3
   },
   "file_extension": ".py",
   "mimetype": "text/x-python",
   "name": "python",
   "nbconvert_exporter": "python",
   "pygments_lexer": "ipython3",
   "version": "3.6.4"
  }
 },
 "nbformat": 4,
 "nbformat_minor": 1
}

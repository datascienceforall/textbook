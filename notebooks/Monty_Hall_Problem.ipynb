{
 "cells": [
  {
   "cell_type": "code",
   "execution_count": 1,
   "metadata": {
    "collapsed": true
   },
   "outputs": [],
   "source": [
    "# HIDDEN\n",
    "\n",
    "from datascience import *\n",
    "import matplotlib\n",
    "matplotlib.use('Agg', warn=False)\n",
    "%matplotlib inline\n",
    "import matplotlib.pyplot as plots\n",
    "plots.style.use('fivethirtyeight')\n",
    "import numpy as np"
   ]
  },
  {
   "cell_type": "markdown",
   "metadata": {},
   "source": [
    "### The Monty Hall Problem ###\n",
    "This [problem](https://en.wikipedia.org/wiki/Monty_Hall_problem) has flummoxed many people over the years, [mathematicians included](https://web.archive.org/web/20140413131827/http://www.decisionsciences.org/DecisionLine/Vol30/30_1/vazs30_1.pdf). Let's see if we can work it out.\n",
    "\n",
    "The setting is derived from a television game show called \"Let's Make a Deal\". Monty Hall hosted this show in the 1960's, and it has since led to a number of spin-offs. An exciting part of the show was that while the contestants had the chance to win great prizes, they might instead end up with \"zonks\" that were less desirable. This is the basis for what is now known as *the Monty Hall problem*.\n",
    "\n",
    "The setting is a game show in which the contestant is faced with three closed doors. Behind one of the doors is a fancy car, and behind each of the other two there is a goat. The contestant doesn't know where the car is, and has to attempt to find it under the following rules.\n",
    "\n",
    "- The contestant makes an initial choice, but that door isn't opened.\n",
    "- At least one of the other two doors must have a goat behind it. Monty opens one of these doors to reveal a goat, displayed in all its glory in [Wikipedia](https://en.wikipedia.org/wiki/Monty_Hall_problem):\n",
    "\n",
    "![Monty Hall goat](/images/monty_hall_goat.png)\n",
    "\n",
    "- There are two doors left, one of which was the contestant's original choice. One of the doors has the car behind it, and the other one has a goat. The contestant now gets to choose which of the two doors to open.\n",
    "\n",
    "The contestant has a decision to make. Which door should she choose to open, if she wants the car? Should she stick with her initial choice, or switch to the other door? That is the Monty Hall problem."
   ]
  },
  {
   "cell_type": "markdown",
   "metadata": {
    "collapsed": true
   },
   "source": [
    "### The Solution ###\n",
    "\n",
    "In any problem involving chances, the assumptions about randomness are important. It's reasonable to assume that there is a 1/3 chance that the contestant's initial choice is the door that has the car behind it. \n",
    "\n",
    "The solution to the problem is quite straightforward under this assumption, though the straightforward solution doesn't convince everyone. Here it is anyway.\n",
    "\n",
    "- The chance that the car is behind the originally chosen door is 1/3.\n",
    "- The car is behind either the originally chosen door or the door that remains. It can't be anywhere else.\n",
    "- Therefore, the chance that the car is behind the door that remains is 2/3.\n",
    "- Therefore, the contestant should switch.\n",
    "\n",
    "That's it. End of story. \n",
    "\n",
    "Not convinced? Then let's simulate the game and see how the results turn out."
   ]
  },
  {
   "cell_type": "markdown",
   "metadata": {},
   "source": [
    "### Simulation ###\n",
    "We start by setting up two useful arrays – `doors` and `goats` – that will allow us to distinguish the three doors and the two goats."
   ]
  },
  {
   "cell_type": "code",
   "execution_count": 2,
   "metadata": {},
   "outputs": [],
   "source": [
    "doors = make_array('Car', 'Goat 1', 'Goat 2')\n",
    "goats = make_array('Goat 1', 'Goat 2')"
   ]
  },
  {
   "cell_type": "markdown",
   "metadata": {},
   "source": [
    "Now we define a function `monty_hall` that simulates the game and returns an array of three strings in this order: \n",
    "- what is behind the contestant's original choice of door\n",
    "- what Monty throws out\n",
    "- what is behind the remaining door\n",
    "\n",
    "If the contestant's original choice is a door with a goat, Monty must throw out the other goat, and what will remain is the car. If the original choice is the door with a car, Monty must throw out one of the two goats, and what will remain is the other goat. \n",
    "\n",
    "It is clear, therefore, that the function `other_one` defined in an earlier section will be useful. It takes a string and a two-element array; if the string is equal to one of the elements, it returns the other one."
   ]
  },
  {
   "cell_type": "code",
   "execution_count": 3,
   "metadata": {
    "collapsed": true
   },
   "outputs": [],
   "source": [
    "def other_one(x, a_b):\n",
    "    if x == a_b.item(0):\n",
    "        return a_b.item(1)\n",
    "    elif x == a_b.item(1):\n",
    "        return a_b.item(0)\n",
    "    else:\n",
    "        return 'Input Not Valid'"
   ]
  },
  {
   "cell_type": "markdown",
   "metadata": {},
   "source": [
    "If the contestant's original choice is a goat, then the outcome of the game could be one of the following two:"
   ]
  },
  {
   "cell_type": "code",
   "execution_count": 4,
   "metadata": {},
   "outputs": [
    {
     "data": {
      "text/plain": [
       "array(['Goat 1', 'Goat 2', 'Car'],\n",
       "      dtype='<U6')"
      ]
     },
     "execution_count": 4,
     "metadata": {},
     "output_type": "execute_result"
    }
   ],
   "source": [
    "original = 'Goat 1'\n",
    "make_array(original, other_one(original, goats), 'Car')"
   ]
  },
  {
   "cell_type": "code",
   "execution_count": 5,
   "metadata": {},
   "outputs": [
    {
     "data": {
      "text/plain": [
       "array(['Goat 2', 'Goat 1', 'Car'],\n",
       "      dtype='<U6')"
      ]
     },
     "execution_count": 5,
     "metadata": {},
     "output_type": "execute_result"
    }
   ],
   "source": [
    "original = 'Goat 2'\n",
    "make_array(original, other_one(original, goats), 'Car')"
   ]
  },
  {
   "cell_type": "markdown",
   "metadata": {},
   "source": [
    "If the original choice happens to be the car, then let's assume Monty throws out one of the two goats at random, and the other goat is behind the remaining door."
   ]
  },
  {
   "cell_type": "code",
   "execution_count": 6,
   "metadata": {},
   "outputs": [
    {
     "data": {
      "text/plain": [
       "array(['Car', 'Goat 2', 'Goat 1'],\n",
       "      dtype='<U6')"
      ]
     },
     "execution_count": 6,
     "metadata": {},
     "output_type": "execute_result"
    }
   ],
   "source": [
    "original = 'Car'\n",
    "throw_out = np.random.choice(goats)\n",
    "make_array(original, throw_out, other_one(throw_out, goats))"
   ]
  },
  {
   "cell_type": "markdown",
   "metadata": {},
   "source": [
    "We can now put all this code together into a single function `monty_hall` to simulate the result of one game. The function takes no arguments. \n",
    "\n",
    "The contestant's original choice will be a door chosen at random from among the three doors. \n",
    "\n",
    "To check whether the original choice is a goat or not, we first write a little function named `is_goat`."
   ]
  },
  {
   "cell_type": "code",
   "execution_count": 7,
   "metadata": {
    "collapsed": true
   },
   "outputs": [],
   "source": [
    "def is_goat(door_name):\n",
    "    \n",
    "    \"\"\" Check whether the name of a door (a string) is a Goat.\n",
    "    \n",
    "    Examples:\n",
    "    =========\n",
    "    \n",
    "    >>> is_goat('Goat 1')\n",
    "    True\n",
    "    >>> is_goat('Goat 2')\n",
    "    True\n",
    "    >>> is_goat('Car')\n",
    "    False\n",
    "    \"\"\"\n",
    "    if door_name == \"Goat 1\":\n",
    "        return True\n",
    "    elif door_name == \"Goat 2\":\n",
    "        return True\n",
    "    else:\n",
    "        return False\n",
    "\n",
    "\n",
    "def monty_hall():\n",
    "\n",
    "    \"\"\" Play the Monty Hall game once\n",
    "    and return an array of three strings:\n",
    "    \n",
    "    original choice, what Monty throws out, what remains\n",
    "    \"\"\"\n",
    "    \n",
    "    original = np.random.choice(doors)\n",
    "    \n",
    "    if is_goat(original):\n",
    "        return make_array(original, other_one(original, goats), 'Car')\n",
    "    \n",
    "    else:\n",
    "        throw_out = np.random.choice(goats)\n",
    "        return make_array(original, throw_out, other_one(throw_out, goats))"
   ]
  },
  {
   "cell_type": "markdown",
   "metadata": {},
   "source": [
    "Let's play the game a few times! Here is one outcome. You should run the cell several times to see how the outcome changes."
   ]
  },
  {
   "cell_type": "code",
   "execution_count": 8,
   "metadata": {},
   "outputs": [
    {
     "data": {
      "text/plain": [
       "array(['Car', 'Goat 2', 'Goat 1'],\n",
       "      dtype='<U6')"
      ]
     },
     "execution_count": 8,
     "metadata": {},
     "output_type": "execute_result"
    }
   ],
   "source": [
    "monty_hall()"
   ]
  },
  {
   "cell_type": "markdown",
   "metadata": {},
   "source": [
    "To gauge the frequency with which the different outcomes occur, we have to play the games many times and collect the results. For this, we will use a `for` loop.\n",
    "\n",
    "We will start by defining three empty arrays, one each for the original choice, what Monty throws out, and what remains. Then we will play the game `N` times and collect the results. We have set `N` to be 10,000, but you can vary that."
   ]
  },
  {
   "cell_type": "code",
   "execution_count": 9,
   "metadata": {},
   "outputs": [
    {
     "data": {
      "text/html": [
       "<table border=\"1\" class=\"dataframe\">\n",
       "    <thead>\n",
       "        <tr>\n",
       "            <th>Original Door Choice</th> <th>Monty Throws Out</th> <th>Remaining Door</th>\n",
       "        </tr>\n",
       "    </thead>\n",
       "    <tbody>\n",
       "        <tr>\n",
       "            <td>Goat 2              </td> <td>Goat 1          </td> <td>Car           </td>\n",
       "        </tr>\n",
       "    </tbody>\n",
       "        <tr>\n",
       "            <td>Goat 1              </td> <td>Goat 2          </td> <td>Car           </td>\n",
       "        </tr>\n",
       "    </tbody>\n",
       "        <tr>\n",
       "            <td>Car                 </td> <td>Goat 2          </td> <td>Goat 1        </td>\n",
       "        </tr>\n",
       "    </tbody>\n",
       "        <tr>\n",
       "            <td>Goat 2              </td> <td>Goat 1          </td> <td>Car           </td>\n",
       "        </tr>\n",
       "    </tbody>\n",
       "        <tr>\n",
       "            <td>Goat 1              </td> <td>Goat 2          </td> <td>Car           </td>\n",
       "        </tr>\n",
       "    </tbody>\n",
       "        <tr>\n",
       "            <td>Goat 2              </td> <td>Goat 1          </td> <td>Car           </td>\n",
       "        </tr>\n",
       "    </tbody>\n",
       "        <tr>\n",
       "            <td>Goat 2              </td> <td>Goat 1          </td> <td>Car           </td>\n",
       "        </tr>\n",
       "    </tbody>\n",
       "        <tr>\n",
       "            <td>Goat 1              </td> <td>Goat 2          </td> <td>Car           </td>\n",
       "        </tr>\n",
       "    </tbody>\n",
       "        <tr>\n",
       "            <td>Goat 2              </td> <td>Goat 1          </td> <td>Car           </td>\n",
       "        </tr>\n",
       "    </tbody>\n",
       "        <tr>\n",
       "            <td>Goat 2              </td> <td>Goat 1          </td> <td>Car           </td>\n",
       "        </tr>\n",
       "    </tbody>\n",
       "</table>\n",
       "<p>... (9990 rows omitted)</p"
      ],
      "text/plain": [
       "Original Door Choice | Monty Throws Out | Remaining Door\n",
       "Goat 2               | Goat 1           | Car\n",
       "Goat 1               | Goat 2           | Car\n",
       "Car                  | Goat 2           | Goat 1\n",
       "Goat 2               | Goat 1           | Car\n",
       "Goat 1               | Goat 2           | Car\n",
       "Goat 2               | Goat 1           | Car\n",
       "Goat 2               | Goat 1           | Car\n",
       "Goat 1               | Goat 2           | Car\n",
       "Goat 2               | Goat 1           | Car\n",
       "Goat 2               | Goat 1           | Car\n",
       "... (9990 rows omitted)"
      ]
     },
     "execution_count": 9,
     "metadata": {},
     "output_type": "execute_result"
    }
   ],
   "source": [
    "# Number of times we'll play the game\n",
    "N = 10000\n",
    "\n",
    "original = make_array()     # original choice\n",
    "throw_out = make_array()    # what Monty throws out\n",
    "remains = make_array()      # what remains\n",
    "\n",
    "for i in np.arange(N): \n",
    "    result = monty_hall()    # the result of one game\n",
    "    \n",
    "    # Collect the results in the appropriate arrays\n",
    "    original = np.append(original, result.item(0))\n",
    "    throw_out = np.append(throw_out, result.item(1))\n",
    "    remains = np.append(remains, result.item(2))\n",
    "    \n",
    "# The for-loop is done! Now put all the arrays together in a table.\n",
    "results = Table().with_columns(\n",
    "    'Original Door Choice', original,\n",
    "    'Monty Throws Out', throw_out,\n",
    "    'Remaining Door', remains\n",
    ")\n",
    "results"
   ]
  },
  {
   "cell_type": "markdown",
   "metadata": {},
   "source": [
    "To see whether the contestant should stick with her original choice or switch, let's see how frequently the car is behind each of her two options."
   ]
  },
  {
   "cell_type": "code",
   "execution_count": 10,
   "metadata": {},
   "outputs": [
    {
     "data": {
      "text/html": [
       "<table border=\"1\" class=\"dataframe\">\n",
       "    <thead>\n",
       "        <tr>\n",
       "            <th>Original Door Choice</th> <th>count</th>\n",
       "        </tr>\n",
       "    </thead>\n",
       "    <tbody>\n",
       "        <tr>\n",
       "            <td>Car                 </td> <td>3343 </td>\n",
       "        </tr>\n",
       "    </tbody>\n",
       "        <tr>\n",
       "            <td>Goat 1              </td> <td>3305 </td>\n",
       "        </tr>\n",
       "    </tbody>\n",
       "        <tr>\n",
       "            <td>Goat 2              </td> <td>3352 </td>\n",
       "        </tr>\n",
       "    </tbody>\n",
       "</table>"
      ],
      "text/plain": [
       "Original Door Choice | count\n",
       "Car                  | 3343\n",
       "Goat 1               | 3305\n",
       "Goat 2               | 3352"
      ]
     },
     "execution_count": 10,
     "metadata": {},
     "output_type": "execute_result"
    }
   ],
   "source": [
    "results.group('Original Door Choice')"
   ]
  },
  {
   "cell_type": "code",
   "execution_count": 11,
   "metadata": {},
   "outputs": [
    {
     "data": {
      "text/html": [
       "<table border=\"1\" class=\"dataframe\">\n",
       "    <thead>\n",
       "        <tr>\n",
       "            <th>Remaining Door</th> <th>count</th>\n",
       "        </tr>\n",
       "    </thead>\n",
       "    <tbody>\n",
       "        <tr>\n",
       "            <td>Car           </td> <td>6657 </td>\n",
       "        </tr>\n",
       "    </tbody>\n",
       "        <tr>\n",
       "            <td>Goat 1        </td> <td>1684 </td>\n",
       "        </tr>\n",
       "    </tbody>\n",
       "        <tr>\n",
       "            <td>Goat 2        </td> <td>1659 </td>\n",
       "        </tr>\n",
       "    </tbody>\n",
       "</table>"
      ],
      "text/plain": [
       "Remaining Door | count\n",
       "Car            | 6657\n",
       "Goat 1         | 1684\n",
       "Goat 2         | 1659"
      ]
     },
     "execution_count": 11,
     "metadata": {},
     "output_type": "execute_result"
    }
   ],
   "source": [
    "results.group('Remaining Door')"
   ]
  },
  {
   "cell_type": "markdown",
   "metadata": {},
   "source": [
    "As our solution said, the car is behind the remaining door two-thirds of the time, to a pretty good approximation. The contestant is twice as likely to get the car if she switches than if she sticks with her original choice.\n",
    "\n",
    "To visualize the results, we can join the two tables above and draw overlaid bar charts."
   ]
  },
  {
   "cell_type": "code",
   "execution_count": 12,
   "metadata": {},
   "outputs": [
    {
     "data": {
      "text/html": [
       "<table border=\"1\" class=\"dataframe\">\n",
       "    <thead>\n",
       "        <tr>\n",
       "            <th>Item</th> <th>Original Door</th> <th>Remaining Door</th>\n",
       "        </tr>\n",
       "    </thead>\n",
       "    <tbody>\n",
       "        <tr>\n",
       "            <td>Car   </td> <td>3343         </td> <td>6657          </td>\n",
       "        </tr>\n",
       "    </tbody>\n",
       "        <tr>\n",
       "            <td>Goat 1</td> <td>3305         </td> <td>1684          </td>\n",
       "        </tr>\n",
       "    </tbody>\n",
       "        <tr>\n",
       "            <td>Goat 2</td> <td>3352         </td> <td>1659          </td>\n",
       "        </tr>\n",
       "    </tbody>\n",
       "</table>"
      ],
      "text/plain": [
       "Item   | Original Door | Remaining Door\n",
       "Car    | 3343          | 6657\n",
       "Goat 1 | 3305          | 1684\n",
       "Goat 2 | 3352          | 1659"
      ]
     },
     "execution_count": 12,
     "metadata": {},
     "output_type": "execute_result"
    }
   ],
   "source": [
    "results_o = results.group('Original Door Choice')\n",
    "results_r = results.group('Remaining Door')\n",
    "joined = results_o.join('Original Door Choice', results_r, 'Remaining Door')\n",
    "combined = joined.relabeled(0, 'Item').relabeled(1, 'Original Door').relabeled(2, 'Remaining Door')\n",
    "combined"
   ]
  },
  {
   "cell_type": "code",
   "execution_count": 13,
   "metadata": {},
   "outputs": [
    {
     "data": {
      "image/png": "[encoded data removed]",
      "text/plain": [
       "<matplotlib.figure.Figure at 0x10dea2ef0>"
      ]
     },
     "metadata": {},
     "output_type": "display_data"
    }
   ],
   "source": [
    "combined.barh(\"Item\")"
   ]
  },
  {
   "cell_type": "markdown",
   "metadata": {},
   "source": [
    "Notice how the three blue bars are almost equal – the original choice is equally likely to be any of the three available items. But the gold bar corresponding to `Car` is twice as long as the blue. \n",
    "\n",
    "The simulation confirms that the contestant is twice as likely to win if she switches."
   ]
  }
 ],
 "metadata": {
  "anaconda-cloud": {},
  "kernelspec": {
   "display_name": "Python 3",
   "language": "python",
   "name": "python3"
  },
  "language_info": {
   "codemirror_mode": {
    "name": "ipython",
    "version": 3
   },
   "file_extension": ".py",
   "mimetype": "text/x-python",
   "name": "python",
   "nbconvert_exporter": "python",
   "pygments_lexer": "ipython3",
   "version": "3.6.3"
  }
 },
 "nbformat": 4,
 "nbformat_minor": 1
}
